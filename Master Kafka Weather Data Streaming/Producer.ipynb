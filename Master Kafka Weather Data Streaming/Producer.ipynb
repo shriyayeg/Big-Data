{
 "cells": [
  {
   "cell_type": "code",
   "execution_count": null,
   "id": "d897dea0",
   "metadata": {},
   "outputs": [],
   "source": [
    "pip install requests\n"
   ]
  },
  {
   "cell_type": "markdown",
   "id": "6025bb71",
   "metadata": {},
   "source": [
    "With Weather API Key: Dynamic Weather Updates from Open Weather API"
   ]
  },
  {
   "cell_type": "code",
   "execution_count": 21,
   "id": "5217b7b6",
   "metadata": {},
   "outputs": [
    {
     "name": "stdout",
     "output_type": "stream",
     "text": [
      "Sent data: {'city': 'New York', 'temperature': 66.25, 'description': 'overcast clouds', 'time': '2024-04-24T14:24:05.378201'}\n",
      "Sent data: {'city': 'New York', 'temperature': 66.25, 'description': 'overcast clouds', 'time': '2024-04-24T14:26:05.503063'}\n"
     ]
    },
    {
     "ename": "KeyboardInterrupt",
     "evalue": "",
     "output_type": "error",
     "traceback": [
      "\u001B[0;31m---------------------------------------------------------------------------\u001B[0m",
      "\u001B[0;31mKeyboardInterrupt\u001B[0m                         Traceback (most recent call last)",
      "Cell \u001B[0;32mIn[21], line 52\u001B[0m\n\u001B[1;32m     50\u001B[0m \u001B[38;5;28;01mwhile\u001B[39;00m \u001B[38;5;28;01mTrue\u001B[39;00m:\n\u001B[1;32m     51\u001B[0m     send_weather_data(producer, api_key\u001B[38;5;241m=\u001B[39mapi_key)\n\u001B[0;32m---> 52\u001B[0m     time\u001B[38;5;241m.\u001B[39msleep(\u001B[38;5;241m120\u001B[39m)\n",
      "\u001B[0;31mKeyboardInterrupt\u001B[0m: "
     ]
    }
   ],
   "source": [
    "from kafka import KafkaProducer\n",
    "import json\n",
    "import time\n",
    "import requests\n",
    "from datetime import datetime\n",
    "\n",
    "# Function to create a Kafka Producer\n",
    "def create_producer():\n",
    "    return KafkaProducer(\n",
    "        bootstrap_servers='localhost:9092',\n",
    "        value_serializer=lambda v: json.dumps(v).encode('utf-8')\n",
    "    )\n",
    "\n",
    "# Function to fetch weather data from OpenWeatherMap\n",
    "def fetch_weather_data(api_key, city=\"New York\"):\n",
    "    url = f\"http://api.openweathermap.org/data/2.5/weather?q={city}&appid={api_key}&units=imperial\"\n",
    "    response = requests.get(url)\n",
    "    data = response.json()\n",
    "    \n",
    "    # Check for the response status\n",
    "    if response.status_code != 200:\n",
    "        print(f\"Error fetching weather data: {data.get('message', 'No error message')}\")\n",
    "        return None\n",
    "    \n",
    "    if 'main' not in data:\n",
    "        print(\"Missing 'main' in response. Here's the data received:\", data)\n",
    "        return None\n",
    "    \n",
    "    weather_data = {\n",
    "        \"city\": city,\n",
    "        \"temperature\": data[\"main\"][\"temp\"],\n",
    "        \"description\": data[\"weather\"][0][\"description\"],\n",
    "        \"time\": datetime.now().isoformat()\n",
    "    }\n",
    "    return weather_data\n",
    "\n",
    "# Function to send data\n",
    "def send_weather_data(producer, topic_name='weather', api_key=''):\n",
    "    weather_data = fetch_weather_data(api_key)\n",
    "    if weather_data:\n",
    "        producer.send(topic_name, value=weather_data)\n",
    "        producer.flush()\n",
    "        print(f\"Sent data: {weather_data}\")\n",
    "    else:\n",
    "        print(\"Failed to fetch weather data\")\n",
    "\n",
    "if __name__ == '__main__':\n",
    "    api_key = '4788fd85d2b57dbdb611d45c14d9e16c'  # API key\n",
    "    producer = create_producer()\n",
    "    while True:\n",
    "        send_weather_data(producer, api_key=api_key)\n",
    "        time.sleep(120)  # Send data every 2 minutes\n"
   ]
  },
  {
   "cell_type": "markdown",
   "id": "98f722b0",
   "metadata": {},
   "source": [
    "Without Using Api, sending Randomly Generated Weather data "
   ]
  },
  {
   "cell_type": "code",
   "execution_count": 22,
   "id": "75e45556",
   "metadata": {},
   "outputs": [
    {
     "name": "stdout",
     "output_type": "stream",
     "text": [
      "Sent data: {'city': 'New York', 'temperature': 34.47, 'description': 'snowy', 'time': '2024-04-24T14:29:13.438978'}\n",
      "Sent data: {'city': 'New York', 'temperature': 73.96, 'description': 'cloudy', 'time': '2024-04-24T14:29:18.449269'}\n",
      "Sent data: {'city': 'New York', 'temperature': 57.47, 'description': 'foggy', 'time': '2024-04-24T14:29:23.461765'}\n",
      "Sent data: {'city': 'New York', 'temperature': 60.48, 'description': 'rainy', 'time': '2024-04-24T14:29:28.480423'}\n",
      "Sent data: {'city': 'New York', 'temperature': 63.36, 'description': 'cloudy', 'time': '2024-04-24T14:29:33.493026'}\n",
      "Sent data: {'city': 'New York', 'temperature': 65.15, 'description': 'cloudy', 'time': '2024-04-24T14:29:38.503044'}\n",
      "Sent data: {'city': 'New York', 'temperature': 30.1, 'description': 'snowy', 'time': '2024-04-24T14:29:43.545294'}\n"
     ]
    },
    {
     "ename": "KeyboardInterrupt",
     "evalue": "",
     "output_type": "error",
     "traceback": [
      "\u001B[0;31m---------------------------------------------------------------------------\u001B[0m",
      "\u001B[0;31mKeyboardInterrupt\u001B[0m                         Traceback (most recent call last)",
      "Cell \u001B[0;32mIn[22], line 49\u001B[0m\n\u001B[1;32m     47\u001B[0m \u001B[38;5;28;01mwhile\u001B[39;00m \u001B[38;5;28;01mTrue\u001B[39;00m:\n\u001B[1;32m     48\u001B[0m     send_weather_data(producer)\n\u001B[0;32m---> 49\u001B[0m     time\u001B[38;5;241m.\u001B[39msleep(\u001B[38;5;241m5\u001B[39m)\n",
      "\u001B[0;31mKeyboardInterrupt\u001B[0m: "
     ]
    }
   ],
   "source": [
    "from kafka import KafkaProducer\n",
    "import json\n",
    "import time\n",
    "import random\n",
    "from datetime import datetime\n",
    "\n",
    "# Function to create a Kafka Producer\n",
    "def create_producer():\n",
    "    return KafkaProducer(\n",
    "        bootstrap_servers='localhost:9092',\n",
    "        value_serializer=lambda v: json.dumps(v).encode('utf-8')\n",
    "    )\n",
    "\n",
    "# Simulate dynamic weather data\n",
    "def simulate_weather_data(city):\n",
    "    weather_descriptions = [\"sunny\", \"cloudy\", \"rainy\", \"foggy\", \"snowy\", \"windy\"]\n",
    "    temperatures = {\n",
    "        \"sunny\": random.uniform(75, 95),\n",
    "        \"cloudy\": random.uniform(60, 75),\n",
    "        \"rainy\": random.uniform(55, 65),\n",
    "        \"foggy\": random.uniform(50, 60),\n",
    "        \"snowy\": random.uniform(30, 40),\n",
    "        \"windy\": random.uniform(60, 70)\n",
    "    }\n",
    "    \n",
    "    # Randomly choose a weather condition\n",
    "    description = random.choice(weather_descriptions)\n",
    "    temperature = temperatures[description]\n",
    "\n",
    "    weather_data = {\n",
    "        \"city\": city,\n",
    "        \"temperature\": round(temperature, 2),\n",
    "        \"description\": description,\n",
    "        \"time\": datetime.now().isoformat()\n",
    "    }\n",
    "    return weather_data\n",
    "\n",
    "# Function to send data\n",
    "def send_weather_data(producer, topic_name='weather', city='New York'):\n",
    "    weather_data = simulate_weather_data(city)\n",
    "    producer.send(topic_name, value=weather_data)\n",
    "    producer.flush()\n",
    "    print(f\"Sent data: {weather_data}\")\n",
    "\n",
    "if __name__ == '__main__':\n",
    "    producer = create_producer()\n",
    "    while True:\n",
    "        send_weather_data(producer)\n",
    "        time.sleep(5)  # Send data every 5 seconds\n"
   ]
  },
  {
   "cell_type": "code",
   "id": "d1d587f3",
   "metadata": {
    "jupyter": {
     "is_executing": true
    }
   },
   "source": [],
   "outputs": [],
   "execution_count": null
  },
  {
   "metadata": {},
   "cell_type": "code",
   "outputs": [],
   "execution_count": null,
   "source": "",
   "id": "f92d6a2c4b26de47"
  }
 ],
 "metadata": {
  "kernelspec": {
   "display_name": "Python 3 (ipykernel)",
   "language": "python",
   "name": "python3"
  },
  "language_info": {
   "codemirror_mode": {
    "name": "ipython",
    "version": 3
   },
   "file_extension": ".py",
   "mimetype": "text/x-python",
   "name": "python",
   "nbconvert_exporter": "python",
   "pygments_lexer": "ipython3",
   "version": "3.11.5"
  }
 },
 "nbformat": 4,
 "nbformat_minor": 5
}
