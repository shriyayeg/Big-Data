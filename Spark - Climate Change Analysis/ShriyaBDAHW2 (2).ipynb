{
  "nbformat": 4,
  "nbformat_minor": 0,
  "metadata": {
    "colab": {
      "provenance": [],
      "toc_visible": true
    },
    "kernelspec": {
      "name": "python3",
      "display_name": "Python 3"
    },
    "language_info": {
      "name": "python"
    }
  },
  "cells": [
    {
      "cell_type": "markdown",
      "source": [
        "## **Question 1**"
      ],
      "metadata": {
        "id": "F-gRzx8TNhVf"
      }
    },
    {
      "cell_type": "code",
      "source": [
        "#Installing java and spark\n",
        "!apt-get install openjdk-8-jdk-headless -qq > /dev/null #Install java\n",
        "!wget -q https://archive.apache.org/dist/spark/spark-3.1.2/spark-3.1.2-bin-hadoop3.2.tgz ## Install Apache Spark\n",
        "!tar xf spark-3.1.2-bin-hadoop3.2.tgz\n",
        "!pip install -q findspark"
      ],
      "metadata": {
        "id": "nd8DlnJGNtus"
      },
      "execution_count": 1,
      "outputs": []
    },
    {
      "cell_type": "code",
      "source": [
        "import os\n",
        "os.environ[\"JAVA_HOME\"] = \"/usr/lib/jvm/java-8-openjdk-amd64\"\n",
        "os.environ[\"SPARK_HOME\"] = \"/content/spark-3.1.2-bin-hadoop3.2\""
      ],
      "metadata": {
        "id": "qyjvH4rHOWis"
      },
      "execution_count": 49,
      "outputs": []
    },
    {
      "cell_type": "code",
      "source": [
        "import findspark\n",
        "findspark.init()\n",
        "from pyspark.sql import SparkSession\n",
        "from pyspark import SparkConf, SparkContext\n",
        "from datetime import datetime, date, timedelta\n",
        "from dateutil import relativedelta\n",
        "from pyspark.sql import SQLContext, Row\n",
        "from pyspark.sql import DataFrame\n",
        "from pyspark.sql.functions import to_timestamp, to_date\n",
        "from pyspark.sql import functions as F\n",
        "from pyspark.sql.functions import collect_list, collect_set, concat, first, array_distinct, col, size, expr, max, desc, year\n",
        "from pyspark.sql import DataFrame\n",
        "import random"
      ],
      "metadata": {
        "id": "mErsu4GYOYyv"
      },
      "execution_count": 50,
      "outputs": []
    },
    {
      "cell_type": "code",
      "source": [
        "spark = SparkSession\\\n",
        "        .builder\\\n",
        "        .getOrCreate()"
      ],
      "metadata": {
        "id": "qC1Hv5oPOdIT"
      },
      "execution_count": 51,
      "outputs": []
    },
    {
      "cell_type": "code",
      "source": [
        "##Reading flight data 2015\n",
        "flightData2015 = spark.read.csv(\"/content/2015-summary.csv\", inferSchema = True, header = True)"
      ],
      "metadata": {
        "id": "POL0IykEPrVO"
      },
      "execution_count": 52,
      "outputs": []
    },
    {
      "cell_type": "code",
      "source": [
        "flightData2015.take(3)"
      ],
      "metadata": {
        "colab": {
          "base_uri": "https://localhost:8080/"
        },
        "id": "D3F6xNCXQ04f",
        "outputId": "58a97b3f-11fa-4fcf-94fe-00acad1febce"
      },
      "execution_count": 53,
      "outputs": [
        {
          "output_type": "execute_result",
          "data": {
            "text/plain": [
              "[Row(DEST_COUNTRY_NAME='United States', ORIGIN_COUNTRY_NAME='Romania', count=15),\n",
              " Row(DEST_COUNTRY_NAME='United States', ORIGIN_COUNTRY_NAME='Croatia', count=1),\n",
              " Row(DEST_COUNTRY_NAME='United States', ORIGIN_COUNTRY_NAME='Ireland', count=344)]"
            ]
          },
          "metadata": {},
          "execution_count": 53
        }
      ]
    },
    {
      "cell_type": "code",
      "source": [
        "flightData2015.sort(\"count\").explain()"
      ],
      "metadata": {
        "colab": {
          "base_uri": "https://localhost:8080/"
        },
        "id": "fnsEuu6IRYbe",
        "outputId": "49a09924-0147-483c-d4ef-39e7b7def42e"
      },
      "execution_count": 54,
      "outputs": [
        {
          "output_type": "stream",
          "name": "stdout",
          "text": [
            "== Physical Plan ==\n",
            "*(1) Sort [count#7768 ASC NULLS FIRST], true, 0\n",
            "+- Exchange rangepartitioning(count#7768 ASC NULLS FIRST, 5), ENSURE_REQUIREMENTS, [id=#993]\n",
            "   +- FileScan csv [DEST_COUNTRY_NAME#7766,ORIGIN_COUNTRY_NAME#7767,count#7768] Batched: false, DataFilters: [], Format: CSV, Location: InMemoryFileIndex[file:/content/2015-summary.csv], PartitionFilters: [], PushedFilters: [], ReadSchema: struct<DEST_COUNTRY_NAME:string,ORIGIN_COUNTRY_NAME:string,count:int>\n",
            "\n",
            "\n"
          ]
        }
      ]
    },
    {
      "cell_type": "code",
      "source": [
        "spark.conf.set(\"spark.sql.shuffle.partitions\", \"5\")\n"
      ],
      "metadata": {
        "id": "pm55Ry40RZd7"
      },
      "execution_count": 55,
      "outputs": []
    },
    {
      "cell_type": "code",
      "source": [
        "flightData2015.sort(\"count\").take(2)"
      ],
      "metadata": {
        "colab": {
          "base_uri": "https://localhost:8080/"
        },
        "id": "IX-uU2zRRdGs",
        "outputId": "9efe6657-79a5-4782-98b3-b83b2ae11e94"
      },
      "execution_count": 56,
      "outputs": [
        {
          "output_type": "execute_result",
          "data": {
            "text/plain": [
              "[Row(DEST_COUNTRY_NAME='United States', ORIGIN_COUNTRY_NAME='Singapore', count=1),\n",
              " Row(DEST_COUNTRY_NAME='Moldova', ORIGIN_COUNTRY_NAME='United States', count=1)]"
            ]
          },
          "metadata": {},
          "execution_count": 56
        }
      ]
    },
    {
      "cell_type": "code",
      "source": [
        "flightData2015.createOrReplaceTempView(\"flight_data_2015\")"
      ],
      "metadata": {
        "id": "Bcx5C53yRkfX"
      },
      "execution_count": 59,
      "outputs": []
    },
    {
      "cell_type": "code",
      "source": [
        "sqlWay = spark.sql(\"\"\"\n",
        "SELECT DEST_COUNTRY_NAME, count(1)\n",
        "FROM flight_data_2015\n",
        "GROUP BY DEST_COUNTRY_NAME\n",
        "\"\"\")\n",
        "dataFrameWay = flightData2015\\\n",
        ".groupBy(\"DEST_COUNTRY_NAME\")\\\n",
        ".count()\n",
        "sqlWay.explain()\n",
        "dataFrameWay.explain()"
      ],
      "metadata": {
        "colab": {
          "base_uri": "https://localhost:8080/"
        },
        "id": "Mxalf8aPRn64",
        "outputId": "1f09c86e-7328-4e71-a73d-2cab9ad82af1"
      },
      "execution_count": 60,
      "outputs": [
        {
          "output_type": "stream",
          "name": "stdout",
          "text": [
            "== Physical Plan ==\n",
            "*(2) HashAggregate(keys=[DEST_COUNTRY_NAME#7766], functions=[count(1)])\n",
            "+- Exchange hashpartitioning(DEST_COUNTRY_NAME#7766, 5), ENSURE_REQUIREMENTS, [id=#1063]\n",
            "   +- *(1) HashAggregate(keys=[DEST_COUNTRY_NAME#7766], functions=[partial_count(1)])\n",
            "      +- FileScan csv [DEST_COUNTRY_NAME#7766] Batched: false, DataFilters: [], Format: CSV, Location: InMemoryFileIndex[file:/content/2015-summary.csv], PartitionFilters: [], PushedFilters: [], ReadSchema: struct<DEST_COUNTRY_NAME:string>\n",
            "\n",
            "\n",
            "== Physical Plan ==\n",
            "*(2) HashAggregate(keys=[DEST_COUNTRY_NAME#7766], functions=[count(1)])\n",
            "+- Exchange hashpartitioning(DEST_COUNTRY_NAME#7766, 5), ENSURE_REQUIREMENTS, [id=#1082]\n",
            "   +- *(1) HashAggregate(keys=[DEST_COUNTRY_NAME#7766], functions=[partial_count(1)])\n",
            "      +- FileScan csv [DEST_COUNTRY_NAME#7766] Batched: false, DataFilters: [], Format: CSV, Location: InMemoryFileIndex[file:/content/2015-summary.csv], PartitionFilters: [], PushedFilters: [], ReadSchema: struct<DEST_COUNTRY_NAME:string>\n",
            "\n",
            "\n"
          ]
        }
      ]
    },
    {
      "cell_type": "code",
      "source": [
        "spark.sql(\"SELECT max(count) from flight_data_2015\").take(1)"
      ],
      "metadata": {
        "colab": {
          "base_uri": "https://localhost:8080/"
        },
        "id": "3SzcV5VGRr63",
        "outputId": "2765aa33-720d-449a-a5c5-5d01a282a067"
      },
      "execution_count": 61,
      "outputs": [
        {
          "output_type": "execute_result",
          "data": {
            "text/plain": [
              "[Row(max(count)=370002)]"
            ]
          },
          "metadata": {},
          "execution_count": 61
        }
      ]
    },
    {
      "cell_type": "code",
      "source": [
        "flightData2015.select(max(\"count\")).take(1)"
      ],
      "metadata": {
        "colab": {
          "base_uri": "https://localhost:8080/"
        },
        "id": "YXo24sSnRwCr",
        "outputId": "83350b83-8c3c-432f-e450-0a279457eb86"
      },
      "execution_count": 62,
      "outputs": [
        {
          "output_type": "execute_result",
          "data": {
            "text/plain": [
              "[Row(max(count)=370002)]"
            ]
          },
          "metadata": {},
          "execution_count": 62
        }
      ]
    },
    {
      "cell_type": "code",
      "source": [
        "maxSql = spark.sql(\"\"\"\n",
        "SELECT DEST_COUNTRY_NAME, sum(count) as destination_total\n",
        "FROM flight_data_2015\n",
        "GROUP BY DEST_COUNTRY_NAME\n",
        "ORDER BY sum(count) DESC\n",
        "LIMIT 5\n",
        "\"\"\")\n",
        "maxSql.show()"
      ],
      "metadata": {
        "colab": {
          "base_uri": "https://localhost:8080/"
        },
        "id": "eQL5Gih_RyK3",
        "outputId": "9fb71928-c689-4e91-e003-1b78200c9cd7"
      },
      "execution_count": 63,
      "outputs": [
        {
          "output_type": "stream",
          "name": "stdout",
          "text": [
            "+-----------------+-----------------+\n",
            "|DEST_COUNTRY_NAME|destination_total|\n",
            "+-----------------+-----------------+\n",
            "|    United States|           411352|\n",
            "|           Canada|             8399|\n",
            "|           Mexico|             7140|\n",
            "|   United Kingdom|             2025|\n",
            "|            Japan|             1548|\n",
            "+-----------------+-----------------+\n",
            "\n"
          ]
        }
      ]
    },
    {
      "cell_type": "code",
      "source": [
        "from pyspark.sql.functions import desc\n",
        "flightData2015\\\n",
        ".groupBy(\"DEST_COUNTRY_NAME\")\\\n",
        ".sum(\"count\")\\\n",
        ".withColumnRenamed(\"sum(count)\", \"destination_total\")\\\n",
        ".sort(desc(\"destination_total\"))\\\n",
        ".limit(5)\\\n",
        ".show()"
      ],
      "metadata": {
        "colab": {
          "base_uri": "https://localhost:8080/"
        },
        "id": "8VV3pGxBR1g7",
        "outputId": "cb4e2511-5027-4b25-e08d-3735bd8244db"
      },
      "execution_count": 64,
      "outputs": [
        {
          "output_type": "stream",
          "name": "stdout",
          "text": [
            "+-----------------+-----------------+\n",
            "|DEST_COUNTRY_NAME|destination_total|\n",
            "+-----------------+-----------------+\n",
            "|    United States|           411352|\n",
            "|           Canada|             8399|\n",
            "|           Mexico|             7140|\n",
            "|   United Kingdom|             2025|\n",
            "|            Japan|             1548|\n",
            "+-----------------+-----------------+\n",
            "\n"
          ]
        }
      ]
    },
    {
      "cell_type": "code",
      "source": [
        "flightData2015\\\n",
        ".groupBy(\"DEST_COUNTRY_NAME\")\\\n",
        ".sum(\"count\")\\\n",
        ".withColumnRenamed(\"sum(count)\", \"destination_total\")\\\n",
        ".sort(desc(\"destination_total\"))\\\n",
        ".limit(5)\\\n",
        ".explain()"
      ],
      "metadata": {
        "colab": {
          "base_uri": "https://localhost:8080/"
        },
        "id": "P0uG3kfXR4_1",
        "outputId": "826fa022-ef3f-40ee-e6e5-567c0a840657"
      },
      "execution_count": 65,
      "outputs": [
        {
          "output_type": "stream",
          "name": "stdout",
          "text": [
            "== Physical Plan ==\n",
            "TakeOrderedAndProject(limit=5, orderBy=[destination_total#7869L DESC NULLS LAST], output=[DEST_COUNTRY_NAME#7766,destination_total#7869L])\n",
            "+- *(2) HashAggregate(keys=[DEST_COUNTRY_NAME#7766], functions=[sum(cast(count#7768 as bigint))])\n",
            "   +- Exchange hashpartitioning(DEST_COUNTRY_NAME#7766, 5), ENSURE_REQUIREMENTS, [id=#1209]\n",
            "      +- *(1) HashAggregate(keys=[DEST_COUNTRY_NAME#7766], functions=[partial_sum(cast(count#7768 as bigint))])\n",
            "         +- FileScan csv [DEST_COUNTRY_NAME#7766,count#7768] Batched: false, DataFilters: [], Format: CSV, Location: InMemoryFileIndex[file:/content/2015-summary.csv], PartitionFilters: [], PushedFilters: [], ReadSchema: struct<DEST_COUNTRY_NAME:string,count:int>\n",
            "\n",
            "\n"
          ]
        }
      ]
    },
    {
      "cell_type": "markdown",
      "source": [
        "## **Question 2**"
      ],
      "metadata": {
        "id": "_xBDQkRbSBri"
      }
    },
    {
      "cell_type": "code",
      "source": [
        "#Read the first dataframe\n",
        "df1 = spark.read.csv(\"/content/GlobalLandTemperatures_GlobalLandTemperaturesByCountry.csv\", inferSchema = True, header = True)\n",
        "df1.show()\n",
        "df1.describe().show()"
      ],
      "metadata": {
        "colab": {
          "base_uri": "https://localhost:8080/"
        },
        "id": "bLy9TiZeSHO0",
        "outputId": "ec0e52eb-d6ba-4487-ca3a-3f5281a7568f"
      },
      "execution_count": 66,
      "outputs": [
        {
          "output_type": "stream",
          "name": "stdout",
          "text": [
            "+----------+-------------------+-----------------------------+-------+\n",
            "|        dt| AverageTemperature|AverageTemperatureUncertainty|Country|\n",
            "+----------+-------------------+-----------------------------+-------+\n",
            "|1743-11-01| 4.3839999999999995|                        2.294|  Åland|\n",
            "|1743-12-01|               null|                         null|  Åland|\n",
            "|1744-01-01|               null|                         null|  Åland|\n",
            "|1744-02-01|               null|                         null|  Åland|\n",
            "|1744-03-01|               null|                         null|  Åland|\n",
            "|1744-04-01|               1.53|                         4.68|  Åland|\n",
            "|1744-05-01|  6.702000000000001|                        1.789|  Åland|\n",
            "|1744-06-01| 11.609000000000002|                        1.577|  Åland|\n",
            "|1744-07-01|             15.342|                         1.41|  Åland|\n",
            "|1744-08-01|               null|                         null|  Åland|\n",
            "|1744-09-01|             11.702|                        1.517|  Åland|\n",
            "|1744-10-01|              5.477|                        1.862|  Åland|\n",
            "|1744-11-01|              3.407|                        1.425|  Åland|\n",
            "|1744-12-01|             -2.181|                        1.641|  Åland|\n",
            "|1745-01-01|              -3.85|                        1.841|  Åland|\n",
            "|1745-02-01| -6.574999999999998|                         1.36|  Åland|\n",
            "|1745-03-01|             -4.195|                        1.213|  Åland|\n",
            "|1745-04-01|-0.9660000000000002|                        1.172|  Åland|\n",
            "|1745-05-01|               null|                         null|  Åland|\n",
            "|1745-06-01|               null|                         null|  Åland|\n",
            "+----------+-------------------+-----------------------------+-------+\n",
            "only showing top 20 rows\n",
            "\n",
            "+-------+----------+------------------+-----------------------------+-----------+\n",
            "|summary|        dt|AverageTemperature|AverageTemperatureUncertainty|    Country|\n",
            "+-------+----------+------------------+-----------------------------+-----------+\n",
            "|  count|    577462|            544811|                       545550|     577462|\n",
            "|   mean|      null| 17.19335423293583|           1.0190569003757597|       null|\n",
            "| stddev|      null|10.953966445121187|           1.2019303866334272|       null|\n",
            "|    min|1743-11-01|           -37.658|         0.052000000000000005|Afghanistan|\n",
            "|    max|2013-09-01| 38.84200000000001|                       15.003|      Åland|\n",
            "+-------+----------+------------------+-----------------------------+-----------+\n",
            "\n"
          ]
        }
      ]
    },
    {
      "cell_type": "code",
      "source": [
        "spark.conf.set(\"spark.sql.shuffle.partitions\", \"5\")"
      ],
      "metadata": {
        "id": "SbUHXPRGVYgx"
      },
      "execution_count": 67,
      "outputs": []
    },
    {
      "cell_type": "code",
      "source": [
        "df1.printSchema()"
      ],
      "metadata": {
        "colab": {
          "base_uri": "https://localhost:8080/"
        },
        "id": "oNeKdBXxWKTx",
        "outputId": "b0fc27ce-e7ac-4986-9512-68ae121ed49f"
      },
      "execution_count": 20,
      "outputs": [
        {
          "output_type": "stream",
          "name": "stdout",
          "text": [
            "root\n",
            " |-- dt: string (nullable = true)\n",
            " |-- AverageTemperature: double (nullable = true)\n",
            " |-- AverageTemperatureUncertainty: double (nullable = true)\n",
            " |-- Country: string (nullable = true)\n",
            "\n"
          ]
        }
      ]
    },
    {
      "cell_type": "markdown",
      "source": [
        "For which country and during what year was the highest average temperature  observed?\n",
        "We observe from the data that Kuwait records the higest average temperature"
      ],
      "metadata": {
        "id": "H3N1mMmBSFzy"
      }
    },
    {
      "cell_type": "code",
      "source": [
        "\n",
        "#Order by average temperature in descending order\n",
        "# df1.orderBy(df1['AverageTemperature'].desc()).show()\n",
        "\n",
        "df1.sort(desc(\"AverageTemperature\")).limit(5).show()"
      ],
      "metadata": {
        "colab": {
          "base_uri": "https://localhost:8080/"
        },
        "id": "AorY4RaAWO2b",
        "outputId": "59f379d9-42d2-4a42-e20b-abbe5f8131ee"
      },
      "execution_count": 68,
      "outputs": [
        {
          "output_type": "stream",
          "name": "stdout",
          "text": [
            "+----------+------------------+-----------------------------+-------+\n",
            "|        dt|AverageTemperature|AverageTemperatureUncertainty|Country|\n",
            "+----------+------------------+-----------------------------+-------+\n",
            "|2012-07-01| 38.84200000000001|                        0.464| Kuwait|\n",
            "|2000-07-01| 38.70500000000001|                        0.467| Kuwait|\n",
            "|2010-07-01| 38.49500000000001|                        0.498| Kuwait|\n",
            "|1998-08-01|            38.436|                        0.353| Kuwait|\n",
            "|2000-08-01|            38.315|                        0.593| Kuwait|\n",
            "+----------+------------------+-----------------------------+-------+\n",
            "\n"
          ]
        }
      ]
    },
    {
      "cell_type": "code",
      "source": [
        "#Select the top row\n",
        "df1.orderBy(df1['AverageTemperature'].desc()).head(1)[0]"
      ],
      "metadata": {
        "colab": {
          "base_uri": "https://localhost:8080/"
        },
        "id": "f3URTlv-We1k",
        "outputId": "39697560-e9eb-4dbd-d8fe-65672134bf9d"
      },
      "execution_count": 71,
      "outputs": [
        {
          "output_type": "execute_result",
          "data": {
            "text/plain": [
              "Row(dt='2012-07-01', AverageTemperature=38.84200000000001, AverageTemperatureUncertainty=0.464, Country='Kuwait')"
            ]
          },
          "metadata": {},
          "execution_count": 71
        }
      ]
    },
    {
      "cell_type": "code",
      "source": [
        "#Group by country\n",
        "grouped_df = df1.groupBy('Country')"
      ],
      "metadata": {
        "id": "wGvt2TNWXdHE"
      },
      "execution_count": 72,
      "outputs": []
    },
    {
      "cell_type": "code",
      "source": [
        "#Calculate max temp\n",
        "max_temp = grouped_df.agg({\"AverageTemperature\": 'max'})\n",
        "max_temp = max_temp.withColumnRenamed(\"max(AverageTemperature)\", \"MaxAverageTemperature\")\n",
        "max_temp.show()\n",
        "\n"
      ],
      "metadata": {
        "colab": {
          "base_uri": "https://localhost:8080/"
        },
        "id": "jcKWr7BHYaPA",
        "outputId": "f9a14f3b-1d6e-4e22-b2d4-0ec4e9c7afe4"
      },
      "execution_count": 73,
      "outputs": [
        {
          "output_type": "stream",
          "name": "stdout",
          "text": [
            "+--------------------+---------------------+\n",
            "|             Country|MaxAverageTemperature|\n",
            "+--------------------+---------------------+\n",
            "|         Afghanistan|               28.533|\n",
            "|             Algeria|               35.829|\n",
            "|             Andorra|   24.313000000000002|\n",
            "|              Angola|                25.17|\n",
            "|             Austria|               20.081|\n",
            "|             Belarus|               22.811|\n",
            "|             Belgium|               22.837|\n",
            "|             Bolivia|   24.508000000000003|\n",
            "|            Botswana|   28.860000000000007|\n",
            "|            Cambodia|                30.43|\n",
            "|          Cape Verde|               28.415|\n",
            "|Central African R...|               29.871|\n",
            "|Congo (Democratic...|               26.193|\n",
            "|      Czech Republic|               22.092|\n",
            "|             Denmark|   0.6990000000000001|\n",
            "|   Equatorial Guinea|               27.932|\n",
            "|              France|               23.662|\n",
            "|    French Polynesia|               28.619|\n",
            "|           Indonesia|               27.478|\n",
            "|             Ireland|   18.089000000000002|\n",
            "+--------------------+---------------------+\n",
            "only showing top 20 rows\n",
            "\n"
          ]
        }
      ]
    },
    {
      "cell_type": "code",
      "source": [
        "#Calculate min temp\n",
        "min_temp = grouped_df.agg({\"AverageTemperature\": 'min'})\n",
        "min_temp = min_temp.withColumnRenamed(\"min(AverageTemperature)\", \"MinAverageTemperature\")\n",
        "min_temp.show()"
      ],
      "metadata": {
        "colab": {
          "base_uri": "https://localhost:8080/"
        },
        "id": "V-gkKmEVYjUh",
        "outputId": "ebe4fec8-d22c-4a36-a310-62a8b5e7c0f9"
      },
      "execution_count": 74,
      "outputs": [
        {
          "output_type": "stream",
          "name": "stdout",
          "text": [
            "+--------------------+---------------------+\n",
            "|             Country|MinAverageTemperature|\n",
            "+--------------------+---------------------+\n",
            "|         Afghanistan|   -4.552999999999999|\n",
            "|             Algeria|    9.526000000000002|\n",
            "|             Andorra|               -0.924|\n",
            "|              Angola|               17.227|\n",
            "|             Austria|  -11.077000000000002|\n",
            "|             Belarus|              -16.527|\n",
            "|             Belgium|  -6.0790000000000015|\n",
            "|             Bolivia|               15.877|\n",
            "|            Botswana|   12.574000000000002|\n",
            "|            Cambodia|               21.896|\n",
            "|          Cape Verde|               20.008|\n",
            "|Central African R...|   22.473000000000003|\n",
            "|Congo (Democratic...|               21.704|\n",
            "|      Czech Republic|  -11.615999999999998|\n",
            "|             Denmark|               -36.83|\n",
            "|   Equatorial Guinea|                21.48|\n",
            "|              France|   1.6020000000000003|\n",
            "|    French Polynesia|               23.557|\n",
            "|           Indonesia|                23.73|\n",
            "|             Ireland|  0.26700000000000035|\n",
            "+--------------------+---------------------+\n",
            "only showing top 20 rows\n",
            "\n"
          ]
        }
      ]
    },
    {
      "cell_type": "code",
      "source": [
        "from pyspark.sql.functions import year, max, min\n",
        "\n",
        "\n",
        "# Extract year from dt column and find min and max temperature\n",
        "df = df1.withColumn(\"Year\", year(df1[\"dt\"])) \\\n",
        "       .groupBy(\"Country\", \"Year\") \\\n",
        "       .agg(max(\"AverageTemperature\").alias(\"MaxTemp\"),\n",
        "            min(\"AverageTemperature\").alias(\"MinTemp\"))\n",
        "\n",
        "#  Calculate difference between min and max temperature\n",
        "df = df.withColumn(\"TempDiff\", df[\"MaxTemp\"] - df[\"MinTemp\"])\n",
        "\n",
        "#  Show the result\n",
        "df.show()\n"
      ],
      "metadata": {
        "colab": {
          "base_uri": "https://localhost:8080/"
        },
        "id": "LFLhlxvVKQDE",
        "outputId": "c09cd4bb-9971-40ae-d595-875f914a8bd7"
      },
      "execution_count": 75,
      "outputs": [
        {
          "output_type": "stream",
          "name": "stdout",
          "text": [
            "+-------+----+------------------+-------------------+------------------+\n",
            "|Country|Year|           MaxTemp|            MinTemp|          TempDiff|\n",
            "+-------+----+------------------+-------------------+------------------+\n",
            "|  Åland|1758|15.119000000000002|              -5.71|            20.829|\n",
            "|  Åland|1760|            16.539|            -10.332|26.871000000000002|\n",
            "|  Åland|1763|            17.515| -4.896000000000001|            22.411|\n",
            "|  Åland|1766|17.580000000000002|             -4.681|22.261000000000003|\n",
            "|  Åland|1782|            15.356|              -5.24|            20.596|\n",
            "|  Åland|1785|            15.885|             -6.432|            22.317|\n",
            "|  Åland|1789|            18.543| -8.952000000000002|            27.495|\n",
            "|  Åland|1794|16.625999999999998|             -1.833|18.458999999999996|\n",
            "|  Åland|1796|            16.417|             -4.383|              20.8|\n",
            "|  Åland|1803|            16.712|             -8.914|25.625999999999998|\n",
            "|  Åland|1805|             16.43|-7.4209999999999985|            23.851|\n",
            "|  Åland|1816|            16.537|             -8.116|            24.653|\n",
            "|  Åland|1818|            18.598|             -3.269|21.866999999999997|\n",
            "|  Åland|1820|            15.547|             -9.312|            24.859|\n",
            "|  Åland|1821|            13.613|             -4.375|            17.988|\n",
            "|  Åland|1822|            15.905|-1.2990000000000002|            17.204|\n",
            "|  Åland|1823|            16.469|             -7.085|23.554000000000002|\n",
            "|  Åland|1824|            15.247|-1.4969999999999999|            16.744|\n",
            "|  Åland|1831|            17.525|             -7.341|            24.866|\n",
            "|  Åland|1839|            16.954|             -6.925|            23.879|\n",
            "+-------+----+------------------+-------------------+------------------+\n",
            "only showing top 20 rows\n",
            "\n"
          ]
        }
      ]
    },
    {
      "cell_type": "code",
      "source": [
        "# Calculate difference\n",
        "# Join the max_temp and min_temp DataFrames on the categorical variable(s)\n",
        "temp_diff = max_temp.join(min_temp, on=[\"Country\"])\n",
        "\n",
        "# Calculate the temperature difference\n",
        "temp_diff = temp_diff.withColumn(\"TemperatureDifference\", temp_diff[\"MaxAverageTemperature\"] - temp_diff[\"MinAverageTemperature\"])\n",
        "\n",
        "# Show the resulting DataFrame\n",
        "temp_diff.show()\n"
      ],
      "metadata": {
        "colab": {
          "base_uri": "https://localhost:8080/"
        },
        "id": "xy9Zw041Yx_U",
        "outputId": "fa4a3254-b631-44cd-f7fb-a1f0743e374d"
      },
      "execution_count": 76,
      "outputs": [
        {
          "output_type": "stream",
          "name": "stdout",
          "text": [
            "+--------------------+---------------------+---------------------+---------------------+\n",
            "|             Country|MaxAverageTemperature|MinAverageTemperature|TemperatureDifference|\n",
            "+--------------------+---------------------+---------------------+---------------------+\n",
            "|         Afghanistan|               28.533|   -4.552999999999999|               33.086|\n",
            "|             Algeria|               35.829|    9.526000000000002|   26.302999999999997|\n",
            "|             Andorra|   24.313000000000002|               -0.924|   25.237000000000002|\n",
            "|              Angola|                25.17|               17.227|    7.943000000000001|\n",
            "|             Austria|               20.081|  -11.077000000000002|               31.158|\n",
            "|             Belarus|               22.811|              -16.527|               39.338|\n",
            "|             Belgium|               22.837|  -6.0790000000000015|               28.916|\n",
            "|             Bolivia|   24.508000000000003|               15.877|    8.631000000000002|\n",
            "|            Botswana|   28.860000000000007|   12.574000000000002|   16.286000000000005|\n",
            "|            Cambodia|                30.43|               21.896|    8.533999999999999|\n",
            "|          Cape Verde|               28.415|               20.008|                8.407|\n",
            "|Central African R...|               29.871|   22.473000000000003|    7.397999999999996|\n",
            "|Congo (Democratic...|               26.193|               21.704|    4.489000000000001|\n",
            "|      Czech Republic|               22.092|  -11.615999999999998|               33.708|\n",
            "|             Denmark|   0.6990000000000001|               -36.83|   37.528999999999996|\n",
            "|   Equatorial Guinea|               27.932|                21.48|    6.451999999999998|\n",
            "|              France|               23.662|   1.6020000000000003|                22.06|\n",
            "|    French Polynesia|               28.619|               23.557|    5.062000000000001|\n",
            "|           Indonesia|               27.478|                23.73|    3.748000000000001|\n",
            "|             Ireland|   18.089000000000002|  0.26700000000000035|   17.822000000000003|\n",
            "+--------------------+---------------------+---------------------+---------------------+\n",
            "only showing top 20 rows\n",
            "\n"
          ]
        }
      ]
    },
    {
      "cell_type": "code",
      "source": [
        "# Sort the temp_diff DataFrame in descending order by the \"TempDifference\" column\n",
        "temp_diff = temp_diff.orderBy(\"TemperatureDifference\", ascending=False)\n",
        "\n",
        "# Select the top 10 records\n",
        "top10_countries = temp_diff.limit(10)\n",
        "\n",
        "# Show the resulting DataFrame\n",
        "top10_countries.show()\n"
      ],
      "metadata": {
        "colab": {
          "base_uri": "https://localhost:8080/"
        },
        "id": "KKTQyxAtPv64",
        "outputId": "92dad426-dadc-4bd4-f663-1b5db5ebb929"
      },
      "execution_count": 77,
      "outputs": [
        {
          "output_type": "stream",
          "name": "stdout",
          "text": [
            "+------------+---------------------+---------------------+---------------------+\n",
            "|     Country|MaxAverageTemperature|MinAverageTemperature|TemperatureDifference|\n",
            "+------------+---------------------+---------------------+---------------------+\n",
            "|  Kazakhstan|   25.561999999999998|              -23.601|               49.163|\n",
            "|    Mongolia|   20.715999999999998|  -27.441999999999997|   48.157999999999994|\n",
            "|      Russia|               16.893|              -30.577|                47.47|\n",
            "|      Canada|               14.796|              -28.736|               43.532|\n",
            "|  Uzbekistan|               30.375|              -12.323|               42.698|\n",
            "|Turkmenistan|               32.136|               -8.443|               40.579|\n",
            "|     Finland|               19.132|                -21.2|               40.332|\n",
            "|     Belarus|               22.811|              -16.527|               39.338|\n",
            "|     Ukraine|               24.297|  -14.724000000000002|               39.021|\n",
            "|     Estonia|   22.331999999999997|  -16.551000000000002|   38.882999999999996|\n",
            "+------------+---------------------+---------------------+---------------------+\n",
            "\n"
          ]
        }
      ]
    },
    {
      "cell_type": "markdown",
      "source": [
        "Which top 10 countries had the biggest change in average temperature?\n"
      ],
      "metadata": {
        "id": "WGXKfYD9SUqt"
      }
    },
    {
      "cell_type": "code",
      "source": [
        "\n",
        "\n",
        "print(\"Top 10 countries with the biggest change in average temperature:\")\n",
        "for row in top10_countries.collect():\n",
        "    print(f\"{row['Country']}: {row['TemperatureDifference']} degrees Celsius\")\n"
      ],
      "metadata": {
        "colab": {
          "base_uri": "https://localhost:8080/"
        },
        "id": "3p9fT3aAbV9Z",
        "outputId": "4171e28c-3ca5-4a92-bdd6-bac55cd1ec1d"
      },
      "execution_count": 78,
      "outputs": [
        {
          "output_type": "stream",
          "name": "stdout",
          "text": [
            "Top 10 countries with the biggest change in average temperature:\n",
            "Kazakhstan: 49.163 degrees Celsius\n",
            "Mongolia: 48.157999999999994 degrees Celsius\n",
            "Russia: 47.47 degrees Celsius\n",
            "Canada: 43.532 degrees Celsius\n",
            "Uzbekistan: 42.698 degrees Celsius\n",
            "Turkmenistan: 40.579 degrees Celsius\n",
            "Finland: 40.332 degrees Celsius\n",
            "Belarus: 39.338 degrees Celsius\n",
            "Ukraine: 39.021 degrees Celsius\n",
            "Estonia: 38.882999999999996 degrees Celsius\n"
          ]
        }
      ]
    },
    {
      "cell_type": "markdown",
      "source": [
        " CO2 emissions per capita per country"
      ],
      "metadata": {
        "id": "b3HYtOFFcMmz"
      }
    },
    {
      "cell_type": "code",
      "source": [
        "df2 = spark.read.csv(\"/content/CO2 emissions per capita per country.csv\", inferSchema = True, header = True)\n",
        "\n",
        "df2.describe().show()\n",
        "\n",
        "\n"
      ],
      "metadata": {
        "colab": {
          "base_uri": "https://localhost:8080/"
        },
        "id": "XPJLtThscT1Q",
        "outputId": "6afda218-8efe-4a85-c07a-1e59accdf16b"
      },
      "execution_count": 81,
      "outputs": [
        {
          "output_type": "stream",
          "name": "stdout",
          "text": [
            "+-------+------------+------------+------------------+-----------------+------------------+------------------+-----------------+------------------+------------------+-----------------+-----------------+------------------+-----------------+-----------------+-----------------+------------------+-----------------+-----------------+------------------+------------------+-----------------+-----------------+-----------------+------------------+-----------------+-----------------+------------------+-----------------+-----------------+------------------+-----------------+-----------------+-----------------+-----------------+-----------------+-----------------+-----------------+-----------------+-----------------+------------------+------------------+------------------+------------------+-----------------+------------------+-----------------+-----------------+-----------------+-----------------+-----------------+-----------------+-----------------+-----------------+-----------------+-----------------+------------------+-----------------+----+----+----+----+\n",
            "|summary|Country Name|Country Code|              1960|             1961|              1962|              1963|             1964|              1965|              1966|             1967|             1968|              1969|             1970|             1971|             1972|              1973|             1974|             1975|              1976|              1977|             1978|             1979|             1980|              1981|             1982|             1983|              1984|             1985|             1986|              1987|             1988|             1989|             1990|             1991|             1992|             1993|             1994|             1995|             1996|              1997|              1998|              1999|              2000|             2001|              2002|             2003|             2004|             2005|             2006|             2007|             2008|             2009|             2010|             2011|             2012|              2013|             2014|2015|2016|2017|2018|\n",
            "+-------+------------+------------+------------------+-----------------+------------------+------------------+-----------------+------------------+------------------+-----------------+-----------------+------------------+-----------------+-----------------+-----------------+------------------+-----------------+-----------------+------------------+------------------+-----------------+-----------------+-----------------+------------------+-----------------+-----------------+------------------+-----------------+-----------------+------------------+-----------------+-----------------+-----------------+-----------------+-----------------+-----------------+-----------------+-----------------+-----------------+------------------+------------------+------------------+------------------+-----------------+------------------+-----------------+-----------------+-----------------+-----------------+-----------------+-----------------+-----------------+-----------------+-----------------+-----------------+------------------+-----------------+----+----+----+----+\n",
            "|  count|         264|         264|               192|              193|               195|               196|              203|               203|               203|              203|              203|               203|              205|              206|              208|               208|              208|              208|               208|               208|              208|              208|              208|               208|              208|              208|               208|              208|              209|               209|              209|              209|              215|              217|              241|              241|              242|              243|              243|               244|               245|               245|               245|              245|               246|              246|              246|              247|              248|              249|              249|              249|              249|              249|              251|               251|              250|   0|   0|   0|   0|\n",
            "|   mean|        null|        null|2.0441783908177085|2.157479864538861|2.2488049222051276|2.7634205084285703|2.912680068142856|3.0316694686896533|3.0446996531970454|3.111186310413793|3.309332967596057|3.9191244998226593|4.197480374409761|4.421934022213595|4.488119374057692| 4.805842462769229|4.499457508288458|4.366105995028844|4.3566088581490385| 4.486631686408652|4.511017135326925| 4.56301375180288|4.464373396841345|3.9935487841105752|3.872467809014423|3.726820254807689|3.8243866911634634|3.917695550951922| 3.90544671704306|3.9426031941578925|4.077311975177032|4.213261544602872|4.082445945293023| 4.12124666359447|4.479572514066392|4.502859006871367|4.424655464789256|4.474822216555554| 4.49404976384362|4.4923564963893465| 4.482341602204084|  4.45007266436735|4.5787572154367355|4.631754758122448| 4.598493646569104|4.730172571195122|4.777434844158535| 4.82138487608907|4.899786316879033|4.930891345710842|4.936829229128514|4.722804110947789|4.845600978903612|4.806688992056226|4.949244606936254|4.8625763527529875|4.874891866776002|null|null|null|null|\n",
            "| stddev|        null|        null|  4.19013133562267|4.382109986305979| 4.720572468438973| 8.458954593944794|8.486375560405666| 8.696179595196574| 8.053600221510328|7.258579127838732|7.180269551769366| 9.898252958831659|9.252505669035832|9.874795266950125|10.13049246975966|10.750507319436485|9.182102943186157|8.446873882008916| 8.053850943495645|7.9862684003319755|8.034929014370215|7.947976355059694|7.412516522648616| 6.194085296640771|5.782350417896749|5.285756172214453| 5.558562089820974|5.598985133774683|5.527573992497254| 5.327131525540222|5.476824675229264|5.727762757252643| 5.62833683047693|5.683999100801457|6.016903429507148|6.338014918012369|6.237478807269939|6.383048879364537|6.248893202716061|6.5633175666278705|6.1773357457395734|5.9641899839963965|  6.37275555710367| 6.52095239434664|6.3122163532721345|6.359887317234834|6.284967266449694|6.407478884292914| 6.55519758538462|6.392676986351809|6.177654981382184|5.857454468941018|5.894708093671343|5.820145359490946|6.188208594159372|  5.85643157726449|6.095744436487594|null|null|null|null|\n",
            "|    min| Afghanistan|         ABW|       0.008016885|      0.007892379|        0.00847518|       0.009382723|      0.011598103|        0.01191406|       0.013257883|      0.011800251|     -0.020100465|       0.016116065|      0.012292952|      0.011903796|      0.011529815|       0.011169254|      0.009737866|      0.009749298|       0.009906964|       0.010194211|      0.007380852|      0.004334052|      0.035629468|       0.029818854|      0.028429569|      0.030989858|       0.041134025|      0.035290536|      0.035669805|       0.036615165|      0.011819841|      0.017800705|      0.024008122|      0.010732542|      0.013283953|      0.013984221|      0.015161545|      0.015714093|      0.017218021|       0.019085574|       0.019376466|       0.020063553|       0.017292618|      0.017276319|       0.018616172|      0.019194831|      0.022610101|      0.020747407|      0.024365963|      0.023555045|      0.023219419|      0.022462399|      0.024260032|       0.02676196|      0.030296973|        0.03017577|      0.044485376|null|null|null|null|\n",
            "|    max|    Zimbabwe|         ZWE|        36.6851833|      36.58377756|       42.24199813|       99.46300047|      92.85948762|       85.45858515|       78.62712289|      77.50863897|      75.97533288|       100.6976695|      69.11160217|       76.6414791|      82.61944781|       87.65264586|       68.2325769|      66.64312433|       61.29020795|       54.40915245|      54.82565216|      69.94185463|      58.53434923|       51.82542798|      44.53605315|      36.41181146|       36.11638723|      35.89096957|      33.41410593|       30.55837249|      29.21022992|      31.02882617|      27.95924521|      36.31713406|      54.08916949|      61.25240945|      59.60108855|      61.91238375|      61.83934261|       70.13564144|       58.86599931|       55.15501004|        58.6393586|      67.10601797|       63.35447194|      60.29957188|      56.59083356|      58.91873279|      62.82353605|      53.19098579|       46.6721376|      43.51447655|      40.74201765|      41.20564544|      44.61792936|       37.78008534|      45.42323996|null|null|null|null|\n",
            "+-------+------------+------------+------------------+-----------------+------------------+------------------+-----------------+------------------+------------------+-----------------+-----------------+------------------+-----------------+-----------------+-----------------+------------------+-----------------+-----------------+------------------+------------------+-----------------+-----------------+-----------------+------------------+-----------------+-----------------+------------------+-----------------+-----------------+------------------+-----------------+-----------------+-----------------+-----------------+-----------------+-----------------+-----------------+-----------------+-----------------+------------------+------------------+------------------+------------------+-----------------+------------------+-----------------+-----------------+-----------------+-----------------+-----------------+-----------------+-----------------+-----------------+-----------------+-----------------+------------------+-----------------+----+----+----+----+\n",
            "\n"
          ]
        }
      ]
    },
    {
      "cell_type": "code",
      "source": [
        "#Change df2 column name from 'Country name' to 'Country'\n",
        "df2 = df2.withColumnRenamed('Country Name','Country')\n",
        "\n",
        "df2.describe().show()"
      ],
      "metadata": {
        "colab": {
          "base_uri": "https://localhost:8080/"
        },
        "id": "3lQpqlYBd1F9",
        "outputId": "dd681e17-05b8-4772-89ec-5adb082b6a0c"
      },
      "execution_count": 82,
      "outputs": [
        {
          "output_type": "stream",
          "name": "stdout",
          "text": [
            "+-------+-----------+------------+------------------+-----------------+------------------+------------------+-----------------+------------------+------------------+-----------------+-----------------+------------------+-----------------+-----------------+-----------------+------------------+-----------------+-----------------+------------------+------------------+-----------------+-----------------+-----------------+------------------+-----------------+-----------------+------------------+-----------------+-----------------+------------------+-----------------+-----------------+-----------------+-----------------+-----------------+-----------------+-----------------+-----------------+-----------------+------------------+------------------+------------------+------------------+-----------------+------------------+-----------------+-----------------+-----------------+-----------------+-----------------+-----------------+-----------------+-----------------+-----------------+-----------------+------------------+-----------------+----+----+----+----+\n",
            "|summary|    Country|Country Code|              1960|             1961|              1962|              1963|             1964|              1965|              1966|             1967|             1968|              1969|             1970|             1971|             1972|              1973|             1974|             1975|              1976|              1977|             1978|             1979|             1980|              1981|             1982|             1983|              1984|             1985|             1986|              1987|             1988|             1989|             1990|             1991|             1992|             1993|             1994|             1995|             1996|              1997|              1998|              1999|              2000|             2001|              2002|             2003|             2004|             2005|             2006|             2007|             2008|             2009|             2010|             2011|             2012|              2013|             2014|2015|2016|2017|2018|\n",
            "+-------+-----------+------------+------------------+-----------------+------------------+------------------+-----------------+------------------+------------------+-----------------+-----------------+------------------+-----------------+-----------------+-----------------+------------------+-----------------+-----------------+------------------+------------------+-----------------+-----------------+-----------------+------------------+-----------------+-----------------+------------------+-----------------+-----------------+------------------+-----------------+-----------------+-----------------+-----------------+-----------------+-----------------+-----------------+-----------------+-----------------+------------------+------------------+------------------+------------------+-----------------+------------------+-----------------+-----------------+-----------------+-----------------+-----------------+-----------------+-----------------+-----------------+-----------------+-----------------+------------------+-----------------+----+----+----+----+\n",
            "|  count|        264|         264|               192|              193|               195|               196|              203|               203|               203|              203|              203|               203|              205|              206|              208|               208|              208|              208|               208|               208|              208|              208|              208|               208|              208|              208|               208|              208|              209|               209|              209|              209|              215|              217|              241|              241|              242|              243|              243|               244|               245|               245|               245|              245|               246|              246|              246|              247|              248|              249|              249|              249|              249|              249|              251|               251|              250|   0|   0|   0|   0|\n",
            "|   mean|       null|        null|2.0441783908177085|2.157479864538861|2.2488049222051276|2.7634205084285703|2.912680068142856|3.0316694686896533|3.0446996531970454|3.111186310413793|3.309332967596057|3.9191244998226593|4.197480374409761|4.421934022213595|4.488119374057692| 4.805842462769229|4.499457508288458|4.366105995028844|4.3566088581490385| 4.486631686408652|4.511017135326925| 4.56301375180288|4.464373396841345|3.9935487841105752|3.872467809014423|3.726820254807689|3.8243866911634634|3.917695550951922| 3.90544671704306|3.9426031941578925|4.077311975177032|4.213261544602872|4.082445945293023| 4.12124666359447|4.479572514066392|4.502859006871367|4.424655464789256|4.474822216555554| 4.49404976384362|4.4923564963893465| 4.482341602204084|  4.45007266436735|4.5787572154367355|4.631754758122448| 4.598493646569104|4.730172571195122|4.777434844158535| 4.82138487608907|4.899786316879033|4.930891345710842|4.936829229128514|4.722804110947789|4.845600978903612|4.806688992056226|4.949244606936254|4.8625763527529875|4.874891866776002|null|null|null|null|\n",
            "| stddev|       null|        null|  4.19013133562267|4.382109986305979| 4.720572468438973| 8.458954593944794|8.486375560405666| 8.696179595196574| 8.053600221510328|7.258579127838732|7.180269551769366| 9.898252958831659|9.252505669035832|9.874795266950125|10.13049246975966|10.750507319436485|9.182102943186157|8.446873882008916| 8.053850943495645|7.9862684003319755|8.034929014370215|7.947976355059694|7.412516522648616| 6.194085296640771|5.782350417896749|5.285756172214453| 5.558562089820974|5.598985133774683|5.527573992497254| 5.327131525540222|5.476824675229264|5.727762757252643| 5.62833683047693|5.683999100801457|6.016903429507148|6.338014918012369|6.237478807269939|6.383048879364537|6.248893202716061|6.5633175666278705|6.1773357457395734|5.9641899839963965|  6.37275555710367| 6.52095239434664|6.3122163532721345|6.359887317234834|6.284967266449694|6.407478884292914| 6.55519758538462|6.392676986351809|6.177654981382184|5.857454468941018|5.894708093671343|5.820145359490946|6.188208594159372|  5.85643157726449|6.095744436487594|null|null|null|null|\n",
            "|    min|Afghanistan|         ABW|       0.008016885|      0.007892379|        0.00847518|       0.009382723|      0.011598103|        0.01191406|       0.013257883|      0.011800251|     -0.020100465|       0.016116065|      0.012292952|      0.011903796|      0.011529815|       0.011169254|      0.009737866|      0.009749298|       0.009906964|       0.010194211|      0.007380852|      0.004334052|      0.035629468|       0.029818854|      0.028429569|      0.030989858|       0.041134025|      0.035290536|      0.035669805|       0.036615165|      0.011819841|      0.017800705|      0.024008122|      0.010732542|      0.013283953|      0.013984221|      0.015161545|      0.015714093|      0.017218021|       0.019085574|       0.019376466|       0.020063553|       0.017292618|      0.017276319|       0.018616172|      0.019194831|      0.022610101|      0.020747407|      0.024365963|      0.023555045|      0.023219419|      0.022462399|      0.024260032|       0.02676196|      0.030296973|        0.03017577|      0.044485376|null|null|null|null|\n",
            "|    max|   Zimbabwe|         ZWE|        36.6851833|      36.58377756|       42.24199813|       99.46300047|      92.85948762|       85.45858515|       78.62712289|      77.50863897|      75.97533288|       100.6976695|      69.11160217|       76.6414791|      82.61944781|       87.65264586|       68.2325769|      66.64312433|       61.29020795|       54.40915245|      54.82565216|      69.94185463|      58.53434923|       51.82542798|      44.53605315|      36.41181146|       36.11638723|      35.89096957|      33.41410593|       30.55837249|      29.21022992|      31.02882617|      27.95924521|      36.31713406|      54.08916949|      61.25240945|      59.60108855|      61.91238375|      61.83934261|       70.13564144|       58.86599931|       55.15501004|        58.6393586|      67.10601797|       63.35447194|      60.29957188|      56.59083356|      58.91873279|      62.82353605|      53.19098579|       46.6721376|      43.51447655|      40.74201765|      41.20564544|      44.61792936|       37.78008534|      45.42323996|null|null|null|null|\n",
            "+-------+-----------+------------+------------------+-----------------+------------------+------------------+-----------------+------------------+------------------+-----------------+-----------------+------------------+-----------------+-----------------+-----------------+------------------+-----------------+-----------------+------------------+------------------+-----------------+-----------------+-----------------+------------------+-----------------+-----------------+------------------+-----------------+-----------------+------------------+-----------------+-----------------+-----------------+-----------------+-----------------+-----------------+-----------------+-----------------+-----------------+------------------+------------------+------------------+------------------+-----------------+------------------+-----------------+-----------------+-----------------+-----------------+-----------------+-----------------+-----------------+-----------------+-----------------+-----------------+------------------+-----------------+----+----+----+----+\n",
            "\n"
          ]
        }
      ]
    },
    {
      "cell_type": "code",
      "source": [
        "df2.printSchema()"
      ],
      "metadata": {
        "colab": {
          "base_uri": "https://localhost:8080/"
        },
        "id": "0F20x2Zhd77-",
        "outputId": "d192020e-b71c-43ac-f25c-c01da2ef92ec"
      },
      "execution_count": 83,
      "outputs": [
        {
          "output_type": "stream",
          "name": "stdout",
          "text": [
            "root\n",
            " |-- Country: string (nullable = true)\n",
            " |-- Country Code: string (nullable = true)\n",
            " |-- 1960: double (nullable = true)\n",
            " |-- 1961: double (nullable = true)\n",
            " |-- 1962: double (nullable = true)\n",
            " |-- 1963: double (nullable = true)\n",
            " |-- 1964: double (nullable = true)\n",
            " |-- 1965: double (nullable = true)\n",
            " |-- 1966: double (nullable = true)\n",
            " |-- 1967: double (nullable = true)\n",
            " |-- 1968: double (nullable = true)\n",
            " |-- 1969: double (nullable = true)\n",
            " |-- 1970: double (nullable = true)\n",
            " |-- 1971: double (nullable = true)\n",
            " |-- 1972: double (nullable = true)\n",
            " |-- 1973: double (nullable = true)\n",
            " |-- 1974: double (nullable = true)\n",
            " |-- 1975: double (nullable = true)\n",
            " |-- 1976: double (nullable = true)\n",
            " |-- 1977: double (nullable = true)\n",
            " |-- 1978: double (nullable = true)\n",
            " |-- 1979: double (nullable = true)\n",
            " |-- 1980: double (nullable = true)\n",
            " |-- 1981: double (nullable = true)\n",
            " |-- 1982: double (nullable = true)\n",
            " |-- 1983: double (nullable = true)\n",
            " |-- 1984: double (nullable = true)\n",
            " |-- 1985: double (nullable = true)\n",
            " |-- 1986: double (nullable = true)\n",
            " |-- 1987: double (nullable = true)\n",
            " |-- 1988: double (nullable = true)\n",
            " |-- 1989: double (nullable = true)\n",
            " |-- 1990: double (nullable = true)\n",
            " |-- 1991: double (nullable = true)\n",
            " |-- 1992: double (nullable = true)\n",
            " |-- 1993: double (nullable = true)\n",
            " |-- 1994: double (nullable = true)\n",
            " |-- 1995: double (nullable = true)\n",
            " |-- 1996: double (nullable = true)\n",
            " |-- 1997: double (nullable = true)\n",
            " |-- 1998: double (nullable = true)\n",
            " |-- 1999: double (nullable = true)\n",
            " |-- 2000: double (nullable = true)\n",
            " |-- 2001: double (nullable = true)\n",
            " |-- 2002: double (nullable = true)\n",
            " |-- 2003: double (nullable = true)\n",
            " |-- 2004: double (nullable = true)\n",
            " |-- 2005: double (nullable = true)\n",
            " |-- 2006: double (nullable = true)\n",
            " |-- 2007: double (nullable = true)\n",
            " |-- 2008: double (nullable = true)\n",
            " |-- 2009: double (nullable = true)\n",
            " |-- 2010: double (nullable = true)\n",
            " |-- 2011: double (nullable = true)\n",
            " |-- 2012: double (nullable = true)\n",
            " |-- 2013: double (nullable = true)\n",
            " |-- 2014: double (nullable = true)\n",
            " |-- 2015: string (nullable = true)\n",
            " |-- 2016: string (nullable = true)\n",
            " |-- 2017: string (nullable = true)\n",
            " |-- 2018: string (nullable = true)\n",
            "\n"
          ]
        }
      ]
    },
    {
      "cell_type": "code",
      "source": [
        "from pyspark.sql.functions import *\n",
        "from pyspark.sql import DataFrame\n",
        "from typing import Iterable"
      ],
      "metadata": {
        "id": "0c5DiaoMd_8N"
      },
      "execution_count": 84,
      "outputs": []
    },
    {
      "cell_type": "code",
      "source": [
        "def melt(\n",
        "        df: DataFrame,\n",
        "        id_vars: Iterable[str], value_vars: Iterable[str],\n",
        "        var_name: str=\"variable\", value_name: str=\"value\") -> DataFrame:\n",
        "    \"\"\"Convert :class:`DataFrame` from wide to long format.\"\"\"\n",
        "\n",
        "    # Create array<struct<variable: str, value: ...>>\n",
        "    _vars_and_vals = array(*(\n",
        "        struct(lit(c).alias(var_name), col(c).alias(value_name))\n",
        "        for c in value_vars))\n",
        "\n",
        "    # Add to the DataFrame and explode\n",
        "    _tmp = df.withColumn(\"_vars_and_vals\", explode(_vars_and_vals))\n",
        "\n",
        "    cols = id_vars + [\n",
        "            col(\"_vars_and_vals\")[x].alias(x) for x in [var_name, value_name]]\n",
        "    return _tmp.select(*cols)"
      ],
      "metadata": {
        "id": "Bxj_8HkneGZf"
      },
      "execution_count": 85,
      "outputs": []
    },
    {
      "cell_type": "code",
      "source": [
        "melt(df2, id_vars=['Country'],\n",
        "            value_vars=['1960', '1961', '1962', '1963', '1964', '1965', '1966', '1967', '1968', '1969',\n",
        "                        '1970', '1971', '1972', '1973', '1974', '1975', '1976', '1977', '1978', '1979',\n",
        "                        '1980', '1981', '1982', '1983', '1984', '1985', '1986', '1987', '1988', '1989',\n",
        "                        '1990', '1991', '1992', '1993', '1994', '1995', '1996', '1997', '1998', '1999',\n",
        "                        '2000', '2001', '2002', '2003', '2004', '2005', '2006', '2007', '2008', '2009',\n",
        "                        '2010', '2011', '2012', '2013', '2014','2015','2016','2017','2018']).show()"
      ],
      "metadata": {
        "colab": {
          "base_uri": "https://localhost:8080/"
        },
        "id": "m3veFiWgeIwB",
        "outputId": "e28f1298-0669-424f-8bfa-96504408eb7e"
      },
      "execution_count": 86,
      "outputs": [
        {
          "output_type": "stream",
          "name": "stdout",
          "text": [
            "+-------+--------+-----+\n",
            "|Country|variable|value|\n",
            "+-------+--------+-----+\n",
            "|  Aruba|    1960| null|\n",
            "|  Aruba|    1961| null|\n",
            "|  Aruba|    1962| null|\n",
            "|  Aruba|    1963| null|\n",
            "|  Aruba|    1964| null|\n",
            "|  Aruba|    1965| null|\n",
            "|  Aruba|    1966| null|\n",
            "|  Aruba|    1967| null|\n",
            "|  Aruba|    1968| null|\n",
            "|  Aruba|    1969| null|\n",
            "|  Aruba|    1970| null|\n",
            "|  Aruba|    1971| null|\n",
            "|  Aruba|    1972| null|\n",
            "|  Aruba|    1973| null|\n",
            "|  Aruba|    1974| null|\n",
            "|  Aruba|    1975| null|\n",
            "|  Aruba|    1976| null|\n",
            "|  Aruba|    1977| null|\n",
            "|  Aruba|    1978| null|\n",
            "|  Aruba|    1979| null|\n",
            "+-------+--------+-----+\n",
            "only showing top 20 rows\n",
            "\n"
          ]
        }
      ]
    },
    {
      "cell_type": "code",
      "source": [
        "long_df2 = melt(df2, id_vars=['Country'],\n",
        "           value_vars=['1960', '1961', '1962', '1963', '1964', '1965', '1966', '1967', '1968', '1969',\n",
        "                        '1970', '1971', '1972', '1973', '1974', '1975', '1976', '1977', '1978', '1979',\n",
        "                        '1980', '1981', '1982', '1983', '1984', '1985', '1986', '1987', '1988', '1989',\n",
        "                        '1990', '1991', '1992', '1993', '1994', '1995', '1996', '1997', '1998', '1999',\n",
        "                        '2000', '2001', '2002', '2003', '2004', '2005', '2006', '2007', '2008', '2009',\n",
        "                        '2010', '2011', '2012', '2013', '2014','2015','2016','2017','2018'])"
      ],
      "metadata": {
        "id": "IlIpNg3teMLU"
      },
      "execution_count": 88,
      "outputs": []
    },
    {
      "cell_type": "code",
      "source": [
        "long_df2 = long_df2.withColumnRenamed('variable','Year')"
      ],
      "metadata": {
        "id": "b6lU1Fj2eS12"
      },
      "execution_count": 89,
      "outputs": []
    },
    {
      "cell_type": "code",
      "source": [
        "long_df2 = long_df2.withColumnRenamed('value', 'CO2')"
      ],
      "metadata": {
        "id": "bGxP9hhzeWOh"
      },
      "execution_count": 90,
      "outputs": []
    },
    {
      "cell_type": "code",
      "source": [
        "long_df2.where(df2.Country == 'Afghanistan').show()"
      ],
      "metadata": {
        "colab": {
          "base_uri": "https://localhost:8080/"
        },
        "id": "28mVgcf0eV45",
        "outputId": "c9345cc9-b3dc-49f1-8b12-9c945b864f20"
      },
      "execution_count": 91,
      "outputs": [
        {
          "output_type": "stream",
          "name": "stdout",
          "text": [
            "+-----------+----+-----------+\n",
            "|    Country|Year|        CO2|\n",
            "+-----------+----+-----------+\n",
            "|Afghanistan|1960|0.046059897|\n",
            "|Afghanistan|1961|0.053604304|\n",
            "|Afghanistan|1962|0.073764791|\n",
            "|Afghanistan|1963|0.074232685|\n",
            "|Afghanistan|1964|0.086292452|\n",
            "|Afghanistan|1965|0.101467397|\n",
            "|Afghanistan|1966|0.107636955|\n",
            "|Afghanistan|1967|0.123734289|\n",
            "|Afghanistan|1968| 0.11549774|\n",
            "|Afghanistan|1969| 0.08682346|\n",
            "|Afghanistan|1970|0.150290627|\n",
            "|Afghanistan|1971|0.166042044|\n",
            "|Afghanistan|1972| 0.13076385|\n",
            "|Afghanistan|1973|0.136279785|\n",
            "|Afghanistan|1974|0.155649444|\n",
            "|Afghanistan|1975|0.168928649|\n",
            "|Afghanistan|1976|0.154787206|\n",
            "|Afghanistan|1977|0.182963616|\n",
            "|Afghanistan|1978|0.163159571|\n",
            "|Afghanistan|1979|0.168376671|\n",
            "+-----------+----+-----------+\n",
            "only showing top 20 rows\n",
            "\n"
          ]
        }
      ]
    },
    {
      "cell_type": "code",
      "source": [
        "# Prep temperature data for merging\n",
        "from pyspark.sql.functions import year\n",
        "df1.show()"
      ],
      "metadata": {
        "colab": {
          "base_uri": "https://localhost:8080/"
        },
        "id": "pZOaltpieb0k",
        "outputId": "f8bb0636-590e-446d-8e02-b885732ec625"
      },
      "execution_count": 92,
      "outputs": [
        {
          "output_type": "stream",
          "name": "stdout",
          "text": [
            "+----------+-------------------+-----------------------------+-------+\n",
            "|        dt| AverageTemperature|AverageTemperatureUncertainty|Country|\n",
            "+----------+-------------------+-----------------------------+-------+\n",
            "|1743-11-01| 4.3839999999999995|                        2.294|  Åland|\n",
            "|1743-12-01|               null|                         null|  Åland|\n",
            "|1744-01-01|               null|                         null|  Åland|\n",
            "|1744-02-01|               null|                         null|  Åland|\n",
            "|1744-03-01|               null|                         null|  Åland|\n",
            "|1744-04-01|               1.53|                         4.68|  Åland|\n",
            "|1744-05-01|  6.702000000000001|                        1.789|  Åland|\n",
            "|1744-06-01| 11.609000000000002|                        1.577|  Åland|\n",
            "|1744-07-01|             15.342|                         1.41|  Åland|\n",
            "|1744-08-01|               null|                         null|  Åland|\n",
            "|1744-09-01|             11.702|                        1.517|  Åland|\n",
            "|1744-10-01|              5.477|                        1.862|  Åland|\n",
            "|1744-11-01|              3.407|                        1.425|  Åland|\n",
            "|1744-12-01|             -2.181|                        1.641|  Åland|\n",
            "|1745-01-01|              -3.85|                        1.841|  Åland|\n",
            "|1745-02-01| -6.574999999999998|                         1.36|  Åland|\n",
            "|1745-03-01|             -4.195|                        1.213|  Åland|\n",
            "|1745-04-01|-0.9660000000000002|                        1.172|  Åland|\n",
            "|1745-05-01|               null|                         null|  Åland|\n",
            "|1745-06-01|               null|                         null|  Åland|\n",
            "+----------+-------------------+-----------------------------+-------+\n",
            "only showing top 20 rows\n",
            "\n"
          ]
        }
      ]
    },
    {
      "cell_type": "code",
      "source": [
        "df1.withColumn('Year', year(df1['dt'])).show()"
      ],
      "metadata": {
        "colab": {
          "base_uri": "https://localhost:8080/"
        },
        "id": "bAaW7EaYeisd",
        "outputId": "3ed9d712-5f12-43e2-ff67-84fc6057c103"
      },
      "execution_count": 93,
      "outputs": [
        {
          "output_type": "stream",
          "name": "stdout",
          "text": [
            "+----------+-------------------+-----------------------------+-------+----+\n",
            "|        dt| AverageTemperature|AverageTemperatureUncertainty|Country|Year|\n",
            "+----------+-------------------+-----------------------------+-------+----+\n",
            "|1743-11-01| 4.3839999999999995|                        2.294|  Åland|1743|\n",
            "|1743-12-01|               null|                         null|  Åland|1743|\n",
            "|1744-01-01|               null|                         null|  Åland|1744|\n",
            "|1744-02-01|               null|                         null|  Åland|1744|\n",
            "|1744-03-01|               null|                         null|  Åland|1744|\n",
            "|1744-04-01|               1.53|                         4.68|  Åland|1744|\n",
            "|1744-05-01|  6.702000000000001|                        1.789|  Åland|1744|\n",
            "|1744-06-01| 11.609000000000002|                        1.577|  Åland|1744|\n",
            "|1744-07-01|             15.342|                         1.41|  Åland|1744|\n",
            "|1744-08-01|               null|                         null|  Åland|1744|\n",
            "|1744-09-01|             11.702|                        1.517|  Åland|1744|\n",
            "|1744-10-01|              5.477|                        1.862|  Åland|1744|\n",
            "|1744-11-01|              3.407|                        1.425|  Åland|1744|\n",
            "|1744-12-01|             -2.181|                        1.641|  Åland|1744|\n",
            "|1745-01-01|              -3.85|                        1.841|  Åland|1745|\n",
            "|1745-02-01| -6.574999999999998|                         1.36|  Åland|1745|\n",
            "|1745-03-01|             -4.195|                        1.213|  Åland|1745|\n",
            "|1745-04-01|-0.9660000000000002|                        1.172|  Åland|1745|\n",
            "|1745-05-01|               null|                         null|  Åland|1745|\n",
            "|1745-06-01|               null|                         null|  Åland|1745|\n",
            "+----------+-------------------+-----------------------------+-------+----+\n",
            "only showing top 20 rows\n",
            "\n"
          ]
        }
      ]
    },
    {
      "cell_type": "code",
      "source": [
        "df1_new = df1.withColumn('Year', year(df1['dt']))"
      ],
      "metadata": {
        "id": "cEWk9B0Seruz"
      },
      "execution_count": 94,
      "outputs": []
    },
    {
      "cell_type": "code",
      "source": [
        "df1_new = df1_new.groupBy('Country', 'Year').agg({'AverageTemperature': 'avg'})"
      ],
      "metadata": {
        "id": "0iBY4Xwjeuji"
      },
      "execution_count": 95,
      "outputs": []
    },
    {
      "cell_type": "code",
      "source": [
        "df1_new.show()"
      ],
      "metadata": {
        "colab": {
          "base_uri": "https://localhost:8080/"
        },
        "id": "_K2mzUBsexTC",
        "outputId": "70f5c83d-eda5-4356-8502-dfef8046eb10"
      },
      "execution_count": 96,
      "outputs": [
        {
          "output_type": "stream",
          "name": "stdout",
          "text": [
            "+-------+----+-----------------------+\n",
            "|Country|Year|avg(AverageTemperature)|\n",
            "+-------+----+-----------------------+\n",
            "|  Åland|1758|      4.074833333333333|\n",
            "|  Åland|1760|                  4.322|\n",
            "|  Åland|1763|      4.562499999999999|\n",
            "|  Åland|1766|      5.894666666666667|\n",
            "|  Åland|1782|     4.2837499999999995|\n",
            "|  Åland|1785|     3.8438333333333325|\n",
            "|  Åland|1789|      5.828916666666667|\n",
            "|  Åland|1794|      6.725083333333335|\n",
            "|  Åland|1796|      5.780083333333333|\n",
            "|  Åland|1803|      4.346666666666667|\n",
            "|  Åland|1805|     3.9274166666666663|\n",
            "|  Åland|1816|      4.298166666666666|\n",
            "|  Åland|1818|      5.775333333333332|\n",
            "|  Åland|1820|                 4.4975|\n",
            "|  Åland|1821|      5.174416666666667|\n",
            "|  Åland|1822|      7.111999999999999|\n",
            "|  Åland|1823|      5.347833333333333|\n",
            "|  Åland|1824|      6.099166666666668|\n",
            "|  Åland|1831|      5.051083333333334|\n",
            "|  Åland|1839|      4.697666666666667|\n",
            "+-------+----+-----------------------+\n",
            "only showing top 20 rows\n",
            "\n"
          ]
        }
      ]
    },
    {
      "cell_type": "code",
      "source": [
        "long_df2.join(df1_new, (long_df2[\"Country\"] == df1_new[\"Country\"]) &\n",
        "   (long_df2[\"Year\"] == df1_new[\"Year\"])).show()"
      ],
      "metadata": {
        "colab": {
          "base_uri": "https://localhost:8080/"
        },
        "id": "6kVCi1ow8tqa",
        "outputId": "41cc0792-9712-4252-a5b4-736bdc7365c4"
      },
      "execution_count": 97,
      "outputs": [
        {
          "output_type": "stream",
          "name": "stdout",
          "text": [
            "+-----------+----+-----------+-----------+----+-----------------------+\n",
            "|    Country|Year|        CO2|    Country|Year|avg(AverageTemperature)|\n",
            "+-----------+----+-----------+-----------+----+-----------------------+\n",
            "|Afghanistan|1971|0.166042044|Afghanistan|1971|     14.823500000000001|\n",
            "|Afghanistan|1977|0.182963616|Afghanistan|1977|     14.805416666666668|\n",
            "|Afghanistan|1979|0.168376671|Afghanistan|1979|     14.262083333333335|\n",
            "|Afghanistan|1980|0.132858608|Afghanistan|1980|     14.887333333333332|\n",
            "|Afghanistan|1984|0.234987713|Afghanistan|1984|     14.245833333333332|\n",
            "|Afghanistan|1985|0.297827727|Afghanistan|1985|     14.888749999999996|\n",
            "|Afghanistan|1990|0.213449805|Afghanistan|1990|     14.993333333333332|\n",
            "|Afghanistan|1994| 0.08003917|Afghanistan|1994|               14.75475|\n",
            "|Afghanistan|1996|0.066044698|Afghanistan|1996|     14.426000000000002|\n",
            "|Afghanistan|1997|0.059648382|Afghanistan|1997|     14.904000000000002|\n",
            "|Afghanistan|2002|0.048715548|Afghanistan|2002|     15.537666666666668|\n",
            "|    Albania|1960|1.258194928|    Albania|1960|     13.335083333333332|\n",
            "|    Albania|1969|1.558967572|    Albania|1969|     12.802916666666667|\n",
            "|    Albania|1970|1.753239905|    Albania|1970|     12.839666666666666|\n",
            "|    Albania|1973|2.303897417|    Albania|1973|     12.486666666666666|\n",
            "|    Albania|1976|2.013584562|    Albania|1976|               12.03625|\n",
            "|    Albania|1992|0.774724911|    Albania|1992|     13.084666666666665|\n",
            "|    Albania|1996|0.636625313|    Albania|1996|                12.7365|\n",
            "|    Albania|1999|0.960164412|    Albania|1999|               13.65375|\n",
            "|    Albania|2002|1.229540709|    Albania|2002|     13.559916666666668|\n",
            "+-----------+----+-----------+-----------+----+-----------------------+\n",
            "only showing top 20 rows\n",
            "\n"
          ]
        }
      ]
    },
    {
      "cell_type": "code",
      "source": [
        "merged_df = long_df2.join(df, (long_df2[\"Country\"] == df[\"Country\"]) & (long_df2[\"Year\"] == df[\"Year\"]))\n",
        "merged_df.show()"
      ],
      "metadata": {
        "colab": {
          "base_uri": "https://localhost:8080/"
        },
        "id": "1YTFlMVRW3Ua",
        "outputId": "40b46ae1-1982-4112-851d-22e9fd3c9e98"
      },
      "execution_count": 98,
      "outputs": [
        {
          "output_type": "stream",
          "name": "stdout",
          "text": [
            "+-----------+----+-----------+-----------+----+------------------+-------------------+------------------+\n",
            "|    Country|Year|        CO2|    Country|Year|           MaxTemp|            MinTemp|          TempDiff|\n",
            "+-----------+----+-----------+-----------+----+------------------+-------------------+------------------+\n",
            "|Afghanistan|1971|0.166042044|Afghanistan|1971|26.555999999999997|             -0.588|            27.144|\n",
            "|Afghanistan|1977|0.182963616|Afghanistan|1977|            27.552|-2.4530000000000003|            30.005|\n",
            "|Afghanistan|1979|0.168376671|Afghanistan|1979|            27.513|              1.735|25.778000000000002|\n",
            "|Afghanistan|1980|0.132858608|Afghanistan|1980|27.456999999999997| 0.5329999999999999|26.923999999999996|\n",
            "|Afghanistan|1984|0.234987713|Afghanistan|1984|            27.623|             -0.988|            28.611|\n",
            "|Afghanistan|1985|0.297827727|Afghanistan|1985|            28.254|              1.224|             27.03|\n",
            "|Afghanistan|1990|0.213449805|Afghanistan|1990|            27.526| 1.5579999999999998|            25.968|\n",
            "|Afghanistan|1994| 0.08003917|Afghanistan|1994|27.668000000000003|              2.082|25.586000000000002|\n",
            "|Afghanistan|1996|0.066044698|Afghanistan|1996|            27.349|              0.175|            27.174|\n",
            "|Afghanistan|1997|0.059648382|Afghanistan|1997|            28.533|               2.69|            25.843|\n",
            "|Afghanistan|2002|0.048715548|Afghanistan|2002|27.412000000000006| 2.1300000000000003|25.282000000000007|\n",
            "|    Albania|1960|1.258194928|    Albania|1960|            22.531|              4.127|            18.404|\n",
            "|    Albania|1969|1.558967572|    Albania|1969|            21.545|              2.454|            19.091|\n",
            "|    Albania|1970|1.753239905|    Albania|1970|            22.264|  5.172000000000001|            17.092|\n",
            "|    Albania|1973|2.303897417|    Albania|1973|22.319000000000003|              3.587|18.732000000000003|\n",
            "|    Albania|1976|2.013584562|    Albania|1976|            21.053| 3.4589999999999996|            17.594|\n",
            "|    Albania|1992|0.774724911|    Albania|1992|            24.635|                3.3|            21.335|\n",
            "|    Albania|1996|0.636625313|    Albania|1996|            22.624|              3.778|            18.846|\n",
            "|    Albania|1999|0.960164412|    Albania|1999|            23.677|              3.446|20.230999999999998|\n",
            "|    Albania|2002|1.229540709|    Albania|2002|            23.753|               2.11|            21.643|\n",
            "+-----------+----+-----------+-----------+----+------------------+-------------------+------------------+\n",
            "only showing top 20 rows\n",
            "\n"
          ]
        }
      ]
    },
    {
      "cell_type": "code",
      "source": [
        "##Library import\n",
        "from pyspark.sql.functions import *\n",
        "\n"
      ],
      "metadata": {
        "id": "tvkv6XNyiv6-"
      },
      "execution_count": 99,
      "outputs": []
    },
    {
      "cell_type": "code",
      "source": [
        "result = merged_df.withColumn(\"CO2\", col(\"CO2\").cast(\"double\"))\n",
        "\n",
        "result = result.withColumn(\"TempDiff\", col(\"TempDiff\").cast(\"double\"))\n",
        "\n",
        "from pyspark.sql.functions import *\n",
        "\n",
        "result.stat.corr('CO2','TempDiff')"
      ],
      "metadata": {
        "colab": {
          "base_uri": "https://localhost:8080/"
        },
        "id": "kr5HS-s4XeBv",
        "outputId": "b62f4637-a50d-4d4e-ff68-2fe8d9262714"
      },
      "execution_count": 100,
      "outputs": [
        {
          "output_type": "execute_result",
          "data": {
            "text/plain": [
              "0.2785130259259797"
            ]
          },
          "metadata": {},
          "execution_count": 100
        }
      ]
    },
    {
      "cell_type": "markdown",
      "source": [
        "The correlation coefficient of 0.2785 between CO2 emissions and temperature change indicates a positive correlation, suggesting that as CO2 emissions increase, temperature change tends to increase as well. However, the value of 0.2785 represents a relatively weak positive correlation between these two variables."
      ],
      "metadata": {
        "id": "_-Zn3Dr4_QJW"
      }
    }
  ]
}